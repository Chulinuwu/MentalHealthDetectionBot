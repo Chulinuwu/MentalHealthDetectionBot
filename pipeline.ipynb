{
 "cells": [
  {
   "cell_type": "code",
   "execution_count": 3,
   "metadata": {},
   "outputs": [
    {
     "name": "stdout",
     "output_type": "stream",
     "text": [
      "Collecting sounddevice\n",
      "  Downloading sounddevice-0.5.1-py3-none-win_amd64.whl.metadata (1.4 kB)\n",
      "Requirement already satisfied: scipy in c:\\users\\ananz\\miniconda3\\lib\\site-packages (1.13.1)\n",
      "Requirement already satisfied: numpy in c:\\users\\ananz\\miniconda3\\lib\\site-packages (1.26.4)\n",
      "Requirement already satisfied: transformers in c:\\users\\ananz\\miniconda3\\lib\\site-packages (4.47.1)\n",
      "Requirement already satisfied: librosa in c:\\users\\ananz\\miniconda3\\lib\\site-packages (0.10.2.post1)\n",
      "Requirement already satisfied: CFFI>=1.0 in c:\\users\\ananz\\miniconda3\\lib\\site-packages (from sounddevice) (1.15.1)\n",
      "Requirement already satisfied: filelock in c:\\users\\ananz\\miniconda3\\lib\\site-packages (from transformers) (3.16.1)\n",
      "Requirement already satisfied: huggingface-hub<1.0,>=0.24.0 in c:\\users\\ananz\\miniconda3\\lib\\site-packages (from transformers) (0.26.3)\n",
      "Requirement already satisfied: packaging>=20.0 in c:\\users\\ananz\\miniconda3\\lib\\site-packages (from transformers) (23.1)\n",
      "Requirement already satisfied: pyyaml>=5.1 in c:\\users\\ananz\\miniconda3\\lib\\site-packages (from transformers) (6.0.2)\n",
      "Requirement already satisfied: regex!=2019.12.17 in c:\\users\\ananz\\miniconda3\\lib\\site-packages (from transformers) (2024.11.6)\n",
      "Requirement already satisfied: requests in c:\\users\\ananz\\miniconda3\\lib\\site-packages (from transformers) (2.32.3)\n",
      "Requirement already satisfied: tokenizers<0.22,>=0.21 in c:\\users\\ananz\\miniconda3\\lib\\site-packages (from transformers) (0.21.0)\n",
      "Requirement already satisfied: safetensors>=0.4.1 in c:\\users\\ananz\\miniconda3\\lib\\site-packages (from transformers) (0.4.5)\n",
      "Requirement already satisfied: tqdm>=4.27 in c:\\users\\ananz\\miniconda3\\lib\\site-packages (from transformers) (4.67.1)\n",
      "Requirement already satisfied: audioread>=2.1.9 in c:\\users\\ananz\\miniconda3\\lib\\site-packages (from librosa) (3.0.1)\n",
      "Requirement already satisfied: scikit-learn>=0.20.0 in c:\\users\\ananz\\miniconda3\\lib\\site-packages (from librosa) (1.5.2)\n",
      "Requirement already satisfied: joblib>=0.14 in c:\\users\\ananz\\miniconda3\\lib\\site-packages (from librosa) (1.4.2)\n",
      "Requirement already satisfied: decorator>=4.3.0 in c:\\users\\ananz\\miniconda3\\lib\\site-packages (from librosa) (5.1.1)\n",
      "Requirement already satisfied: numba>=0.51.0 in c:\\users\\ananz\\miniconda3\\lib\\site-packages (from librosa) (0.60.0)\n",
      "Requirement already satisfied: soundfile>=0.12.1 in c:\\users\\ananz\\miniconda3\\lib\\site-packages (from librosa) (0.12.1)\n",
      "Requirement already satisfied: pooch>=1.1 in c:\\users\\ananz\\miniconda3\\lib\\site-packages (from librosa) (1.8.2)\n",
      "Requirement already satisfied: soxr>=0.3.2 in c:\\users\\ananz\\miniconda3\\lib\\site-packages (from librosa) (0.5.0.post1)\n",
      "Requirement already satisfied: typing-extensions>=4.1.1 in c:\\users\\ananz\\miniconda3\\lib\\site-packages (from librosa) (4.12.2)\n",
      "Requirement already satisfied: lazy-loader>=0.1 in c:\\users\\ananz\\miniconda3\\lib\\site-packages (from librosa) (0.4)\n",
      "Requirement already satisfied: msgpack>=1.0 in c:\\users\\ananz\\miniconda3\\lib\\site-packages (from librosa) (1.1.0)\n",
      "Requirement already satisfied: pycparser in c:\\users\\ananz\\miniconda3\\lib\\site-packages (from CFFI>=1.0->sounddevice) (2.21)\n",
      "Requirement already satisfied: fsspec>=2023.5.0 in c:\\users\\ananz\\miniconda3\\lib\\site-packages (from huggingface-hub<1.0,>=0.24.0->transformers) (2024.9.0)\n",
      "Requirement already satisfied: llvmlite<0.44,>=0.43.0dev0 in c:\\users\\ananz\\miniconda3\\lib\\site-packages (from numba>=0.51.0->librosa) (0.43.0)\n",
      "Requirement already satisfied: platformdirs>=2.5.0 in c:\\users\\ananz\\miniconda3\\lib\\site-packages (from pooch>=1.1->librosa) (4.3.6)\n",
      "Requirement already satisfied: charset-normalizer<4,>=2 in c:\\users\\ananz\\miniconda3\\lib\\site-packages (from requests->transformers) (2.0.4)\n",
      "Requirement already satisfied: idna<4,>=2.5 in c:\\users\\ananz\\miniconda3\\lib\\site-packages (from requests->transformers) (3.4)\n",
      "Requirement already satisfied: urllib3<3,>=1.21.1 in c:\\users\\ananz\\miniconda3\\lib\\site-packages (from requests->transformers) (1.26.18)\n",
      "Requirement already satisfied: certifi>=2017.4.17 in c:\\users\\ananz\\miniconda3\\lib\\site-packages (from requests->transformers) (2023.7.22)\n",
      "Requirement already satisfied: threadpoolctl>=3.1.0 in c:\\users\\ananz\\miniconda3\\lib\\site-packages (from scikit-learn>=0.20.0->librosa) (3.5.0)\n",
      "Requirement already satisfied: colorama in c:\\users\\ananz\\miniconda3\\lib\\site-packages (from tqdm>=4.27->transformers) (0.4.6)\n",
      "Downloading sounddevice-0.5.1-py3-none-win_amd64.whl (363 kB)\n",
      "   ---------------------------------------- 0.0/363.6 kB ? eta -:--:--\n",
      "   --- ------------------------------------ 30.7/363.6 kB 1.3 MB/s eta 0:00:01\n",
      "   ---------------------------------------  358.4/363.6 kB 5.5 MB/s eta 0:00:01\n",
      "   ---------------------------------------- 363.6/363.6 kB 4.5 MB/s eta 0:00:00\n",
      "Installing collected packages: sounddevice\n",
      "Successfully installed sounddevice-0.5.1\n",
      "Note: you may need to restart the kernel to use updated packages.\n"
     ]
    }
   ],
   "source": [
    "%pip install sounddevice scipy numpy transformers librosa"
   ]
  },
  {
   "cell_type": "code",
   "execution_count": null,
   "metadata": {},
   "outputs": [],
   "source": [
    "import sounddevice as sd\n",
    "import numpy as np\n",
    "from transformers import Wav2Vec2ForCTC, Wav2Vec2Processor\n",
    "import torch\n",
    "\n",
    "# ตั้งค่าพารามิเตอร์การบันทึก\n",
    "SAMPLE_RATE = 16000  # ความถี่ของเสียงที่โมเดลรองรับ\n",
    "DURATION = 5  # ระยะเวลาบันทึกเสียง (วินาที)\n",
    "\n",
    "# ฟังก์ชันสำหรับบันทึกเสียงจากไมโครโฟน\n",
    "def record_audio(duration, sample_rate):\n",
    "    print(\"เริ่มบันทึกเสียง...\")\n",
    "    audio = sd.rec(int(duration * sample_rate), samplerate=sample_rate, channels=1, dtype=\"float32\")\n",
    "    sd.wait()  # รอให้การบันทึกเสร็จสมบูรณ์\n",
    "    print(\"บันทึกเสียงเสร็จสิ้น!\")\n",
    "    return np.squeeze(audio)\n",
    "\n"
   ]
  },
  {
   "cell_type": "code",
   "execution_count": 7,
   "metadata": {},
   "outputs": [
    {
     "name": "stdout",
     "output_type": "stream",
     "text": [
      "เริ่มบันทึกเสียง...\n",
      "บันทึกเสียงเสร็จสิ้น!\n",
      "ข้อความที่ถอดรหัสได้:\n",
      "ฉัน รู้สึก ไม่ ดี   ฉัน รู้สึก ปวดหัว เล็กน้อย ช่วง นี้\n"
     ]
    }
   ],
   "source": [
    "# โหลดโมเดลและ processor\n",
    "model_name = \"airesearch/wav2vec2-large-xlsr-53-th\"  # โมเดลที่รองรับภาษาไทย\n",
    "processor = Wav2Vec2Processor.from_pretrained(model_name)\n",
    "model = Wav2Vec2ForCTC.from_pretrained(model_name)\n",
    "\n",
    "# บันทึกเสียง\n",
    "audio = record_audio(DURATION, SAMPLE_RATE)\n",
    "\n",
    "# แปลงเสียงให้พร้อมใช้งานกับโมเดล\n",
    "inputs = processor(audio, sampling_rate=SAMPLE_RATE, return_tensors=\"pt\", padding=True)\n",
    "\n",
    "# ใช้โมเดลถอดรหัสเสียง\n",
    "with torch.no_grad():\n",
    "    logits = model(inputs.input_values).logits\n",
    "\n",
    "# ถอดรหัสข้อความจากโมเดล\n",
    "predicted_ids = torch.argmax(logits, dim=-1)\n",
    "transcription = processor.batch_decode(predicted_ids)[0]\n",
    "\n",
    "# แสดงผลลัพธ์\n",
    "print(\"ข้อความที่ถอดรหัสได้:\")\n",
    "print(transcription)"
   ]
  },
  {
   "cell_type": "code",
   "execution_count": null,
   "metadata": {},
   "outputs": [],
   "source": [
    "from transformers import AutoTokenizer, AutoModelForSequenceClassification\n",
    "\n",
    "# โหลด Tokenizer และโมเดลที่ Fine-tune ไว้\n",
    "tokenizer = AutoTokenizer.from_pretrained(\"path_to_thai_bert_model\")\n",
    "model = AutoModelForSequenceClassification.from_pretrained(\"path_to_thai_bert_model\")\n",
    "\n",
    "# ข้อความจากขั้นตอน STT\n",
    "text = transcription\n",
    "\n",
    "# แปลงข้อความเป็น Token\n",
    "inputs = tokenizer(text, return_tensors=\"pt\", padding=True, truncation=True)\n",
    "\n",
    "# วิเคราะห์ข้อความ\n",
    "outputs = model(**inputs)\n",
    "predictions = torch.argmax(outputs.logits, dim=-1)\n",
    "labels = [\"ปกติ\", \"เครียด\", \"ซึมเศร้า\"]  # หมวดหมู่\n",
    "print(f\"ผลลัพธ์: {labels[predictions]}\")\n"
   ]
  }
 ],
 "metadata": {
  "kernelspec": {
   "display_name": "base",
   "language": "python",
   "name": "python3"
  },
  "language_info": {
   "codemirror_mode": {
    "name": "ipython",
    "version": 3
   },
   "file_extension": ".py",
   "mimetype": "text/x-python",
   "name": "python",
   "nbconvert_exporter": "python",
   "pygments_lexer": "ipython3",
   "version": "3.11.5"
  }
 },
 "nbformat": 4,
 "nbformat_minor": 2
}
